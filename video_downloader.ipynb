{
 "cells": [
  {
   "cell_type": "code",
   "execution_count": 12,
   "id": "5b9c88f3",
   "metadata": {},
   "outputs": [
    {
     "name": "stdout",
     "output_type": "stream",
     "text": [
      "Enter the link of YouTube video you want to download:  https://www.youtube.com/watch?v=oRZ0cfZ9SeU\n",
      "Title:  Vilen - Ek Raat (Official Video)\n",
      "Number of views:  427689574\n",
      "Length of video:  288\n",
      "Rating of video:  4.857774\n",
      "Downloading...\n",
      "Download completed!!\n",
      "Wall time: 38.2 s\n"
     ]
    }
   ],
   "source": [
    "%%time\n",
    "from pytube import YouTube\n",
    "\n",
    "#ask for the link from user\n",
    "link = input(\"Enter the link of YouTube video you want to download:  \")\n",
    "yt = YouTube(link)\n",
    "\n",
    "#Showing details\n",
    "print(\"Title: \",yt.title)\n",
    "print(\"Number of views: \",yt.views)\n",
    "print(\"Length of video(seconds): \",yt.length)\n",
    "print(\"Rating of video: \",yt.rating)\n",
    "#Getting the highest resolution possible\n",
    "ys = yt.streams.get_highest_resolution()\n",
    "\n",
    "#Starting download\n",
    "print(\"Downloading...\")\n",
    "ys.download(r'D:\\Projects Python\\Youtube Video Downloader')\n",
    "print(\"Download completed!!\")"
   ]
  },
  {
   "cell_type": "code",
   "execution_count": null,
   "id": "c378fccb",
   "metadata": {},
   "outputs": [],
   "source": []
  }
 ],
 "metadata": {
  "kernelspec": {
   "display_name": "Python 3",
   "language": "python",
   "name": "python3"
  },
  "language_info": {
   "codemirror_mode": {
    "name": "ipython",
    "version": 3
   },
   "file_extension": ".py",
   "mimetype": "text/x-python",
   "name": "python",
   "nbconvert_exporter": "python",
   "pygments_lexer": "ipython3",
   "version": "3.8.8"
  }
 },
 "nbformat": 4,
 "nbformat_minor": 5
}
